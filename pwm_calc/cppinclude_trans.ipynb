{
 "cells": [
  {
   "cell_type": "code",
   "execution_count": 6,
   "metadata": {},
   "outputs": [
    {
     "ename": "TypeError",
     "evalue": "'re.Match' object is not iterable",
     "output_type": "error",
     "traceback": [
      "\u001b[1;31m---------------------------------------------------------------------------\u001b[0m",
      "\u001b[1;31mTypeError\u001b[0m                                 Traceback (most recent call last)",
      "Cell \u001b[1;32mIn[6], line 56\u001b[0m\n\u001b[0;32m     54\u001b[0m \u001b[38;5;28;01mfor\u001b[39;00m s \u001b[38;5;129;01min\u001b[39;00m json_src:\n\u001b[0;32m     55\u001b[0m   res\u001b[38;5;241m=\u001b[39mregex_src\u001b[38;5;241m.\u001b[39mmatch(s)\n\u001b[1;32m---> 56\u001b[0m   \u001b[38;5;28;01mfor\u001b[39;00m r \u001b[38;5;129;01min\u001b[39;00m res:\n\u001b[0;32m     57\u001b[0m     \u001b[38;5;28mprint\u001b[39m(r)\n",
      "\u001b[1;31mTypeError\u001b[0m: 're.Match' object is not iterable"
     ]
    }
   ],
   "source": [
    "import re\n",
    "\n",
    "json_src = [\n",
    "  \"C:/Users/Falke/.platformio/packages/framework-stm32cubef1/Middlewares/ST/STM32_USB_Device_Library/Core/Src\",\n",
    "  \"C:/Users/Falke/.platformio/packages/framework-stm32cubef1/Middlewares/ST/STM32_USB_Device_Library/Class/AUDIO/Src\",\n",
    "  \"C:/Users/Falke/.platformio/packages/framework-stm32cubef1/Middlewares/ST/STM32_USB_Device_Library/Class/CDC/Src\",\n",
    "  \"C:/Users/Falke/.platformio/packages/framework-stm32cubef1/Middlewares/ST/STM32_USB_Device_Library/Class/CustomHID/Src\",\n",
    "  \"C:/Users/Falke/.platformio/packages/framework-stm32cubef1/Middlewares/ST/STM32_USB_Device_Library/Class/DFU/Src\",\n",
    "  \"C:/Users/Falke/.platformio/packages/framework-stm32cubef1/Middlewares/ST/STM32_USB_Device_Library/Class/HID/Src\",\n",
    "  \"C:/Users/Falke/.platformio/packages/framework-stm32cubef1/Middlewares/ST/STM32_USB_Device_Library/Class/MSC/Src\",\n",
    "  \"C:/Users/Falke/.platformio/packages/framework-stm32cubef1/Middlewares/ST/STM32_USB_Host_Library/Core/Src\",\n",
    "  \"C:/Users/Falke/.platformio/packages/framework-stm32cubef1/Middlewares/ST/STM32_USB_Host_Library/Class/AUDIO/Src\",\n",
    "  \"C:/Users/Falke/.platformio/packages/framework-stm32cubef1/Middlewares/ST/STM32_USB_Host_Library/Class/CDC/Src\",\n",
    "  \"C:/Users/Falke/.platformio/packages/framework-stm32cubef1/Middlewares/ST/STM32_USB_Host_Library/Class/HID/Src\",\n",
    "  \"C:/Users/Falke/.platformio/packages/framework-stm32cubef1/Middlewares/ST/STM32_USB_Host_Library/Class/MSC/Src\",\n",
    "  \"C:/Users/Falke/.platformio/packages/framework-stm32cubef1/Middlewares/ST/STM32_USB_Host_Library/Class/MTP/Src\",\n",
    "]\n",
    "\n",
    "json_inc = [\n",
    "  \"C:/Users/Falke/.platformio/packages/framework-stm32cubef1/Drivers/CMSIS/DSP/Include\",\n",
    "  \"C:/Users/Falke/.platformio/packages/framework-stm32cubef1/Drivers/BSP/Components/ak4343\",\n",
    "  \"C:/Users/Falke/.platformio/packages/framework-stm32cubef1/Drivers/BSP/Components/Common\",\n",
    "  \"C:/Users/Falke/.platformio/packages/framework-stm32cubef1/Drivers/BSP/Components/cs43l22\",\n",
    "  \"C:/Users/Falke/.platformio/packages/framework-stm32cubef1/Drivers/BSP/Components/hx8347d\",\n",
    "  \"C:/Users/Falke/.platformio/packages/framework-stm32cubef1/Drivers/BSP/Components/ili9320\",\n",
    "  \"C:/Users/Falke/.platformio/packages/framework-stm32cubef1/Drivers/BSP/Components/ili9325\",\n",
    "  \"C:/Users/Falke/.platformio/packages/framework-stm32cubef1/Drivers/BSP/Components/lis302dl\",\n",
    "  \"C:/Users/Falke/.platformio/packages/framework-stm32cubef1/Drivers/BSP/Components/spfd5408\",\n",
    "  \"C:/Users/Falke/.platformio/packages/framework-stm32cubef1/Drivers/BSP/Components/st7735\",\n",
    "  \"C:/Users/Falke/.platformio/packages/framework-stm32cubef1/Drivers/BSP/Components/stlm75\",\n",
    "  \"C:/Users/Falke/.platformio/packages/framework-stm32cubef1/Drivers/BSP/Components/stmpe811\",\n",
    "  \"C:/Users/Falke/.platformio/packages/framework-stm32cubef1/Drivers/BSP/Adafruit_Shield\",\n",
    "  \"C:/Users/Falke/.platformio/packages/framework-stm32cubef1/Utilities/CPU\",\n",
    "  \"C:/Users/Falke/.platformio/packages/framework-stm32cubef1/Utilities/Fonts\",\n",
    "  \"C:/Users/Falke/.platformio/packages/framework-stm32cubef1/Utilities/Log\",\n",
    "  \"C:/Users/Falke/.platformio/packages/framework-stm32cubef1/Middlewares/ST/STM32_USB_Device_Library/Core/Inc\",\n",
    "  \"C:/Users/Falke/.platformio/packages/framework-stm32cubef1/Middlewares/ST/STM32_USB_Device_Library/Class/AUDIO/Inc\",\n",
    "  \"C:/Users/Falke/.platformio/packages/framework-stm32cubef1/Middlewares/ST/STM32_USB_Device_Library/Class/CDC/Inc\",\n",
    "  \"C:/Users/Falke/.platformio/packages/framework-stm32cubef1/Middlewares/ST/STM32_USB_Device_Library/Class/CustomHID/Inc\",\n",
    "  \"C:/Users/Falke/.platformio/packages/framework-stm32cubef1/Middlewares/ST/STM32_USB_Device_Library/Class/DFU/Inc\",\n",
    "  \"C:/Users/Falke/.platformio/packages/framework-stm32cubef1/Middlewares/ST/STM32_USB_Device_Library/Class/HID/Inc\",\n",
    "  \"C:/Users/Falke/.platformio/packages/framework-stm32cubef1/Middlewares/ST/STM32_USB_Device_Library/Class/MSC/Inc\",\n",
    "  \"C:/Users/Falke/.platformio/packages/framework-stm32cubef1/Middlewares/ST/STM32_USB_Host_Library/Core/Inc\",\n",
    "  \"C:/Users/Falke/.platformio/packages/framework-stm32cubef1/Middlewares/ST/STM32_USB_Host_Library/Class/AUDIO/Inc\",\n",
    "  \"C:/Users/Falke/.platformio/packages/framework-stm32cubef1/Middlewares/ST/STM32_USB_Host_Library/Class/CDC/Inc\",\n",
    "  \"C:/Users/Falke/.platformio/packages/framework-stm32cubef1/Middlewares/ST/STM32_USB_Host_Library/Class/HID/Inc\",\n",
    "  \"C:/Users/Falke/.platformio/packages/framework-stm32cubef1/Middlewares/ST/STM32_USB_Host_Library/Class/MSC/Inc\",\n",
    "  \"C:/Users/Falke/.platformio/packages/framework-stm32cubef1/Middlewares/ST/STM32_USB_Host_Library/Class/MTP/Inc\",\n",
    "]\n",
    "\n",
    "regex_src=re.compile(r\"(C:/Users/Falke/\\.platformio/packages/framework-stm32cubef1)(/\\w+)+/(Src|Inc)\")\n",
    "regex_name = re.compile(r\"(\\w+)(/ST/STM32_USB_Device_Library/Class/AUDIO)\")\n",
    "\n",
    "for s in json_src:\n",
    "  res=regex_src.match(s)\n",
    "  for r in res:\n",
    "    print(r)\n"
   ]
  },
  {
   "cell_type": "code",
   "execution_count": null,
   "metadata": {},
   "outputs": [],
   "source": []
  }
 ],
 "metadata": {
  "kernelspec": {
   "display_name": "base",
   "language": "python",
   "name": "python3"
  },
  "language_info": {
   "codemirror_mode": {
    "name": "ipython",
    "version": 3
   },
   "file_extension": ".py",
   "mimetype": "text/x-python",
   "name": "python",
   "nbconvert_exporter": "python",
   "pygments_lexer": "ipython3",
   "version": "3.10.14"
  }
 },
 "nbformat": 4,
 "nbformat_minor": 2
}
