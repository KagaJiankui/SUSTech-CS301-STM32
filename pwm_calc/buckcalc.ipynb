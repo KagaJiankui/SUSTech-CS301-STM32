{
 "cells": [
  {
   "cell_type": "code",
   "execution_count": 6,
   "id": "cc989f38-207e-4be1-9bc7-f0fb7a98cb39",
   "metadata": {},
   "outputs": [
    {
     "data": {
      "text/plain": [
       "518.6721991701245"
      ]
     },
     "execution_count": 6,
     "metadata": {},
     "output_type": "execute_result"
    }
   ],
   "source": [
    "(15-13)/(5e-3-4/50*(15-0.7)/1e3)"
   ]
  },
  {
   "cell_type": "code",
   "execution_count": 7,
   "id": "dc7038bc-712e-452a-bc66-43cc296ef41e",
   "metadata": {},
   "outputs": [
    {
     "data": {
      "text/plain": [
       "2480.0"
      ]
     },
     "execution_count": 7,
     "metadata": {},
     "output_type": "execute_result"
    }
   ],
   "source": [
    "(13-0.6)/5e-3"
   ]
  },
  {
   "cell_type": "code",
   "execution_count": 8,
   "id": "446ffcf3-c1a8-4f02-b352-0181bf22c59e",
   "metadata": {},
   "outputs": [
    {
     "data": {
      "text/plain": [
       "153.84615384615387"
      ]
     },
     "execution_count": 8,
     "metadata": {},
     "output_type": "execute_result"
    }
   ],
   "source": [
    "2/13*1e3"
   ]
  },
  {
   "cell_type": "code",
   "execution_count": null,
   "id": "762e0b20-2743-4f8e-8a86-d54cbc93affe",
   "metadata": {},
   "outputs": [],
   "source": []
  }
 ],
 "metadata": {
  "kernelspec": {
   "display_name": "Python 3 (ipykernel)",
   "language": "python",
   "name": "python3"
  },
  "language_info": {
   "codemirror_mode": {
    "name": "ipython",
    "version": 3
   },
   "file_extension": ".py",
   "mimetype": "text/x-python",
   "name": "python",
   "nbconvert_exporter": "python",
   "pygments_lexer": "ipython3",
   "version": "3.10.14"
  }
 },
 "nbformat": 4,
 "nbformat_minor": 5
}
