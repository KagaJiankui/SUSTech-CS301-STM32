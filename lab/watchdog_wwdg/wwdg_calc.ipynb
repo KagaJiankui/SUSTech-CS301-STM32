{
 "cells": [
  {
   "cell_type": "code",
   "execution_count": 6,
   "metadata": {},
   "outputs": [],
   "source": [
    "import numpy as np\n",
    "\n",
    "apb1_clk=1e6\n",
    "apb1_tim=apb1_clk*2\n",
    "div_wwdg=4096*8\n",
    "\n",
    "cnt_top=127\n",
    "cnt_window=95\n",
    "cnt_bottom=63"
   ]
  },
  {
   "cell_type": "code",
   "execution_count": 14,
   "metadata": {},
   "outputs": [
    {
     "name": "stdout",
     "output_type": "stream",
     "text": [
      "t_window: 2.097152\n",
      "t_window_top: 1.048576\n",
      " 1.5013701818181815\n"
     ]
    }
   ],
   "source": [
    "lam=0.76\n",
    "\n",
    "t_window=(cnt_top-cnt_bottom)*(div_wwdg/apb1_clk)\n",
    "t_window_top=(cnt_top-cnt_window)*(div_wwdg/apb1_clk)\n",
    "t_feed=(t_window_top+lam*t_window)/(1+lam)\n",
    "\n",
    "print(\"t_window:\",t_window)\n",
    "print(\"t_window_top:\",t_window_top)\n",
    "print(\"\",t_feed)"
   ]
  },
  {
   "cell_type": "code",
   "execution_count": 17,
   "metadata": {},
   "outputs": [
    {
     "name": "stdout",
     "output_type": "stream",
     "text": [
      "tim6_preload: 0x2EE\n",
      "tim6_prescale: 0xF9F\n"
     ]
    }
   ],
   "source": [
    "tick=0.002\n",
    "tim6_psc=int(round(apb1_tim*tick,0)-1)\n",
    "tim6_preload=int(round(t_feed/tick,0)-1)\n",
    "\n",
    "print(\"tim6_preload: 0x%02X\" % tim6_preload)\n",
    "print(\"tim6_prescale: 0x%02X\" % tim6_psc)"
   ]
  },
  {
   "cell_type": "code",
   "execution_count": 16,
   "metadata": {},
   "outputs": [
    {
     "data": {
      "text/plain": [
       "3002740.363636363"
      ]
     },
     "execution_count": 16,
     "metadata": {},
     "output_type": "execute_result"
    }
   ],
   "source": [
    "apb1_tim * t_feed"
   ]
  }
 ],
 "metadata": {
  "kernelspec": {
   "display_name": "base",
   "language": "python",
   "name": "python3"
  },
  "language_info": {
   "codemirror_mode": {
    "name": "ipython",
    "version": 3
   },
   "file_extension": ".py",
   "mimetype": "text/x-python",
   "name": "python",
   "nbconvert_exporter": "python",
   "pygments_lexer": "ipython3",
   "version": "3.12.3"
  }
 },
 "nbformat": 4,
 "nbformat_minor": 2
}
