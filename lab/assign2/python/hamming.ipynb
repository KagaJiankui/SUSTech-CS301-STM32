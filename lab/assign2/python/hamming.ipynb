{
 "cells": [
  {
   "cell_type": "code",
   "execution_count": 16,
   "metadata": {},
   "outputs": [
    {
     "name": "stdout",
     "output_type": "stream",
     "text": [
      "[np.int64(6), np.int64(0), np.int64(3), np.int64(12), np.int64(15), np.int64(9), np.int64(10)]\n"
     ]
    }
   ],
   "source": [
    "import numpy as np\n",
    "\n",
    "G = np.array([0x0D, 0x0B, 0x08, 0x07, 0x04, 0x02, 0x01])\n",
    "H = np.array([0x55, 0x33, 0x0F])\n",
    "mask4 = 0x0F\n",
    "mask3 = 0x07\n",
    "\n",
    "\n",
    "def getHamming(message, HammingMatrix):\n",
    "  return [(message ^ hBit) for hBit in HammingMatrix]\n",
    "\n",
    "\n",
    "print(getHamming(0x0B, G))"
   ]
  },
  {
   "cell_type": "code",
   "execution_count": 19,
   "metadata": {},
   "outputs": [
    {
     "name": "stdout",
     "output_type": "stream",
     "text": [
      "c b a\n",
      "0 0 0 : 0\n",
      "0 0 1 : 1\n",
      "0 1 0 : 1\n",
      "0 1 1 : 0\n",
      "1 0 0 : 1\n",
      "1 0 1 : 0\n",
      "1 1 0 : 0\n",
      "1 1 1 : 1\n",
      "\n",
      "d c b a\n",
      "0 0 0 0 : 0\n",
      "0 0 0 1 : 1\n",
      "0 0 1 0 : 1\n",
      "0 0 1 1 : 0\n",
      "0 1 0 0 : 1\n",
      "0 1 0 1 : 0\n",
      "0 1 1 0 : 0\n",
      "0 1 1 1 : 1\n",
      "1 0 0 0 : 1\n",
      "1 0 0 1 : 0\n",
      "1 0 1 0 : 0\n",
      "1 0 1 1 : 1\n",
      "1 1 0 0 : 0\n",
      "1 1 0 1 : 1\n",
      "1 1 1 0 : 1\n",
      "1 1 1 1 : 0\n",
      "\n"
     ]
    }
   ],
   "source": [
    "from pyeda.inter import *\n",
    "\n",
    "a, b, c,d = map(exprvar, \"abcd\")\n",
    "f1 = a ^ b ^ c\n",
    "f2 = a^ b^ c^ d\n",
    "(f1m,) = espresso_exprs(f1.to_dnf())\n",
    "(f2m,) = espresso_exprs(f2.to_dnf())\n",
    "\n",
    "print(expr2truthtable(f1m))\n",
    "print(expr2truthtable(f2m))"
   ]
  },
  {
   "cell_type": "code",
   "execution_count": 20,
   "metadata": {},
   "outputs": [
    {
     "name": "stdout",
     "output_type": "stream",
     "text": [
      "7\n"
     ]
    }
   ],
   "source": [
    "msg=0b1011\n",
    "print(((0x08&msg)>>1) | (0x03&msg))"
   ]
  }
 ],
 "metadata": {
  "kernelspec": {
   "display_name": "base",
   "language": "python",
   "name": "python3"
  },
  "language_info": {
   "codemirror_mode": {
    "name": "ipython",
    "version": 3
   },
   "file_extension": ".py",
   "mimetype": "text/x-python",
   "name": "python",
   "nbconvert_exporter": "python",
   "pygments_lexer": "ipython3",
   "version": "3.12.3"
  }
 },
 "nbformat": 4,
 "nbformat_minor": 2
}
